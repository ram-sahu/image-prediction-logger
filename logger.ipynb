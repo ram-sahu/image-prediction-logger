{
 "cells": [
  {
   "cell_type": "code",
   "execution_count": 1,
   "metadata": {},
   "outputs": [
    {
     "name": "stderr",
     "output_type": "stream",
     "text": [
      "C:\\Users\\DELL\\Anaconda3\\lib\\site-packages\\h5py\\__init__.py:36: FutureWarning: Conversion of the second argument of issubdtype from `float` to `np.floating` is deprecated. In future, it will be treated as `np.float64 == np.dtype(float).type`.\n",
      "  from ._conv import register_converters as _register_converters\n",
      "Using TensorFlow backend.\n"
     ]
    }
   ],
   "source": [
    "import os\n",
    "from models import tinyyolo\n",
    "from imagedatabase import imagedata"
   ]
  },
  {
   "cell_type": "code",
   "execution_count": 2,
   "metadata": {},
   "outputs": [],
   "source": [
    "\n",
    "'''logger for managing data , prediction and load result to database\n",
    "'''\n",
    "class logger:\n",
    "    def __init__(self,data_folder,pred_folder):  # initialaizing logger\n",
    "        self.dir=os.getcwd()\n",
    "        self.data_dir=self.dir + '\\\\' + data_folder\n",
    "        self.pred_dir=self.dir + '\\\\' + pred_folder\n",
    "        self.db=imagedata(\"a\")\n",
    "        \n",
    "    def db_init(self): # logger database initialaizing\n",
    "        self.db.create_tables()\n",
    "        \n",
    "        \n",
    "    def model_logger(self):         # model logging \n",
    "        model=tinyyolo()\n",
    "        for img in os.listdir(self.data_dir):\n",
    "            i=self.next_index()\n",
    "            extension= img.split(\".\")[-1]\n",
    "            pred_img=str(i) + '.' + extension \n",
    "            result=model.prediction(self.data_dir,self.pred_dir,img,pred_img)\n",
    "            self.save_to_db(i,img,pred_img,extension,result)\n",
    "            \n",
    "    def next_index(self):               # for generating max index(image id ) for next index \n",
    "        index=self.db.custom_query('SELECT max(image_id) FROM image')\n",
    "        index=index[0][0]\n",
    "        if(index==None):\n",
    "            return 1\n",
    "        else:\n",
    "            return index+1\n",
    "    \n",
    "    def save_to_db(self,index,img,pred_img,extension,result): # save to database\n",
    "        self.db.insert_image(index,img,pred_img,extension)\n",
    "        for i in result:\n",
    "            self.db.insert_prediction(index,i['name'],int(i['percentage_probability']))\n",
    "            \n",
    "    def show(self):                    # show save logging \n",
    "        print('image table:\\n',self.db.show_table(),'\\n\\n-------------------------------------------------------------')\n",
    "        print('prediction table:\\n',self.db.show_table('prediction'))\n",
    "        \n",
    "    def commit_logger(self):       # for commit logging\n",
    "        self.db.commit()\n",
    "            \n",
    "    def close(self):              # for close logging \n",
    "        del self.db\n",
    "    "
   ]
  },
  {
   "cell_type": "code",
   "execution_count": 3,
   "metadata": {},
   "outputs": [],
   "source": [
    "a=logger('images_data','prediction')"
   ]
  },
  {
   "cell_type": "code",
   "execution_count": 4,
   "metadata": {},
   "outputs": [
    {
     "name": "stdout",
     "output_type": "stream",
     "text": [
      "database error:table image already exists\n",
      "database error:table prediction already exists\n"
     ]
    }
   ],
   "source": [
    "a.db_init()"
   ]
  },
  {
   "cell_type": "code",
   "execution_count": 5,
   "metadata": {},
   "outputs": [],
   "source": [
    "a.model_logger()"
   ]
  },
  {
   "cell_type": "code",
   "execution_count": 6,
   "metadata": {},
   "outputs": [
    {
     "data": {
      "text/plain": [
       "29"
      ]
     },
     "execution_count": 6,
     "metadata": {},
     "output_type": "execute_result"
    }
   ],
   "source": [
    "a.next_index()"
   ]
  },
  {
   "cell_type": "code",
   "execution_count": 7,
   "metadata": {},
   "outputs": [
    {
     "name": "stdout",
     "output_type": "stream",
     "text": [
      "image table:\n",
      " [(1, 'image.jpg', '1.jpg', 'jpg'), (2, 'images (1).jpg', '2.jpg', 'jpg'), (3, 'images (2).jpg', '3.jpg', 'jpg'), (4, 'images.jpg', '4.jpg', 'jpg'), (5, 'image.jpg', '5.jpg', 'jpg'), (6, 'images (1).jpg', '6.jpg', 'jpg'), (7, 'images (2).jpg', '7.jpg', 'jpg'), (8, 'images.jpg', '8.jpg', 'jpg'), (9, 'image.jpg', '9.jpg', 'jpg'), (10, 'images (1).jpg', '10.jpg', 'jpg'), (11, 'images (2).jpg', '11.jpg', 'jpg'), (12, 'images.jpg', '12.jpg', 'jpg'), (13, 'image.jpg', '13.jpg', 'jpg'), (14, 'images (1).jpg', '14.jpg', 'jpg'), (15, 'images (2).jpg', '15.jpg', 'jpg'), (16, 'images.jpg', '16.jpg', 'jpg'), (17, 'image.jpg', '17.jpg', 'jpg'), (18, 'images (1).jpg', '18.jpg', 'jpg'), (19, 'images (2).jpg', '19.jpg', 'jpg'), (20, 'images.jpg', '20.jpg', 'jpg'), (21, 'image.jpg', '21.jpg', 'jpg'), (22, 'images (1).jpg', '22.jpg', 'jpg'), (23, 'images (2).jpg', '23.jpg', 'jpg'), (24, 'images.jpg', '24.jpg', 'jpg'), (25, 'image.jpg', '25.jpg', 'jpg'), (26, 'images (1).jpg', '26.jpg', 'jpg'), (27, 'images (2).jpg', '27.jpg', 'jpg'), (28, 'images.jpg', '28.jpg', 'jpg')] \n",
      "\n",
      "-------------------------------------------------------------\n",
      "prediction table:\n",
      " [(1, 'person', 73.0), (2, 'person', 94.0), (5, 'person', 73.0), (6, 'person', 94.0), (9, 'person', 73.0), (10, 'person', 94.0), (13, 'person', 73.0), (14, 'person', 94.0), (17, 'person', 73.0), (18, 'person', 94.0), (21, 'person', 73.0), (22, 'person', 94.0), (25, 'person', 73.0), (26, 'person', 94.0)]\n"
     ]
    }
   ],
   "source": [
    "a.show()"
   ]
  },
  {
   "cell_type": "code",
   "execution_count": 8,
   "metadata": {},
   "outputs": [],
   "source": [
    "a.commit_logger()"
   ]
  },
  {
   "cell_type": "code",
   "execution_count": 9,
   "metadata": {},
   "outputs": [
    {
     "name": "stdout",
     "output_type": "stream",
     "text": [
      "connection close\n"
     ]
    }
   ],
   "source": [
    "a.close()"
   ]
  },
  {
   "cell_type": "code",
   "execution_count": null,
   "metadata": {},
   "outputs": [],
   "source": []
  }
 ],
 "metadata": {
  "kernelspec": {
   "display_name": "Python 3",
   "language": "python",
   "name": "python3"
  },
  "language_info": {
   "codemirror_mode": {
    "name": "ipython",
    "version": 3
   },
   "file_extension": ".py",
   "mimetype": "text/x-python",
   "name": "python",
   "nbconvert_exporter": "python",
   "pygments_lexer": "ipython3",
   "version": "3.6.5"
  }
 },
 "nbformat": 4,
 "nbformat_minor": 2
}
